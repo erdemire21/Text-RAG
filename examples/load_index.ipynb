{
 "cells": [
  {
   "cell_type": "code",
   "execution_count": 1,
   "metadata": {},
   "outputs": [
    {
     "name": "stderr",
     "output_type": "stream",
     "text": [
      "Special tokens have been added in the vocabulary, make sure the associated word embeddings are fine-tuned or trained.\n"
     ]
    },
    {
     "data": {
      "application/vnd.jupyter.widget-view+json": {
       "model_id": "85082adef1554f06b09377d391c72b34",
       "version_major": 2,
       "version_minor": 0
      },
      "text/plain": [
       "Loading checkpoint shards:   0%|          | 0/2 [00:00<?, ?it/s]"
      ]
     },
     "metadata": {},
     "output_type": "display_data"
    },
    {
     "name": "stderr",
     "output_type": "stream",
     "text": [
      "/home/pc_5053/anaconda3/envs/vlm_llm/lib/python3.10/site-packages/langchain_core/_api/deprecation.py:139: LangChainDeprecationWarning: The class `HuggingFacePipeline` was deprecated in LangChain 0.0.37 and will be removed in 0.3. An updated version of the class exists in the langchain-huggingface package and should be used instead. To use it run `pip install -U langchain-huggingface` and import as `from langchain_huggingface import HuggingFacePipeline`.\n",
      "  warn_deprecated(\n"
     ]
    }
   ],
   "source": [
    "from text_rag import RAGPipeline\n",
    "rag = RAGPipeline(model_name=\"microsoft/Phi-3-mini-4k-instruct\", directory='files', max_new_tokens=1000, k_chunks=3)"
   ]
  },
  {
   "cell_type": "code",
   "execution_count": 2,
   "metadata": {},
   "outputs": [
    {
     "name": "stderr",
     "output_type": "stream",
     "text": [
      "/home/pc_5053/Emre_LLM_VLM/Açıklamalı Kodlar/RAG/text_rag.py:63: UserWarning: Unsupported file type: faiss_index. Skipping.\n",
      "  warnings.warn(f\"Unsupported file type: {filename}. Skipping.\")\n"
     ]
    },
    {
     "name": "stdout",
     "output_type": "stream",
     "text": [
      "Index saved at /home/pc_5053/Emre_LLM_VLM/Only RAG/files/faiss_index\n",
      "Index created and saved at /home/pc_5053/Emre_LLM_VLM/Only RAG/files/faiss_index\n"
     ]
    }
   ],
   "source": [
    "rag.create_index()"
   ]
  },
  {
   "cell_type": "code",
   "execution_count": 4,
   "metadata": {},
   "outputs": [
    {
     "name": "stderr",
     "output_type": "stream",
     "text": [
      "/home/pc_5053/Emre_LLM_VLM/Açıklamalı Kodlar/RAG/text_rag.py:63: UserWarning: Unsupported file type: faiss_index. Skipping.\n",
      "  warnings.warn(f\"Unsupported file type: {filename}. Skipping.\")\n"
     ]
    },
    {
     "name": "stdout",
     "output_type": "stream",
     "text": [
      "Result:\n",
      " Use the following pieces of context to answer the question at the end. Please follow the following rules:\n",
      "                1. If you don't know the answer, don't try to make up an answer. Just say \"I can't find the final answer but you may want to check the following links\".\n",
      "                2. If you find the answer, write the answer in a concise way with five sentences maximum.\n",
      "                \n",
      "                def cut_video(input_file: str, output_file: str, start_time: float, end_time: float) -> None:\n",
      "    \"\"\"\n",
      "    Cuts a video file from the specified start time to the specified end time.\n",
      "\n",
      "def extract_frames(input_file: str, output_folder: str) -> None:\n",
      "    \"\"\"\n",
      "    Extracts frames from a video and saves them as images.\n",
      "\n",
      "cap.release()\n",
      "    out.release()\n",
      "    print(\"Video cut successfully!\")\n",
      "\n",
      "def concatenate_videos(video_files: List[str], output_file: str) -> None:\n",
      "    \"\"\"\n",
      "    Concatenates multiple video files into one.\n",
      "                \n",
      "                Question: What tool to use for cutting a video\n",
      "                \n",
      "                Helpful Answer:\n",
      "                \n",
      "                The function `cut_video` can be used to cut a video from the specified start time to the specified end time.\n",
      "                \n",
      "                To use this function, you need to provide the input video file path, the output video file path, and the start and end times in seconds.\n",
      "                \n",
      "                Here's an example of how to use the `cut_video` function:\n",
      "                \n",
      "                ```\n",
      "                cut_video(\"input_video.mp4\", \"output_video.mp4\", 10.5, 20.3)\n",
      "                ```\n",
      "                \n",
      "                This will cut the video from 10.5 seconds to 20.3 seconds and save it as \"output_video.mp4\".\n",
      "                \n",
      "                Note: The `cut_video` function assumes that the input video file is in a supported format (e.g., MP4, AVI, etc.).\n",
      "                \n",
      "                If you need to cut a video in a different format, you may need to convert it to a supported format before using the `cut_video` function.\n",
      "                \n",
      "                Also, make sure that the start and end times are within the duration of the input video. Otherwise, the function may not work as expected.\n",
      "                \n",
      "                If you encounter any issues while using the `cut_video` function, you can refer to the following links for more information:\n",
      "                \n",
      "                - [Python-OpenCV Documentation](https://docs.opencv.org/master/d7/d9f/tutorial_video_read.html)\n",
      "                \n",
      "                - [Python-OpenCV Tutorials](https://opencv-python-tutroals.readthedocs.io/en/latest/py_tutorials/py_gui/py_video_display/py_video_display.html)\n",
      "                \n",
      "                - [Python-OpenCV Forum](https://discussions.udacity.com/c/python-opencv-forum)\n",
      "                \n",
      "                - [Python-OpenCV GitHub Repository](https://github.com/opencv/opencv)\n",
      "                \n",
      "                - [Python-OpenCV Wiki](https://github.com/opencv/opencv/wiki)\n",
      "                \n",
      "                - [Python-OpenCV Blog](https://blog.opencv.org/category/python/)\n",
      "                \n",
      "                - [Python-OpenCV YouTube Channel](https://www.youtube.com/user/OpenCV)\n",
      "                \n",
      "                - [Python-OpenCV YouTube Playlist](https://www.youtube.com/playlist?list=PLDV1h-faVoVzK_OYl06Xf-2zc-n_jV-5J)\n",
      "                \n",
      "                - [Python-OpenCV GitHub Issues](https://github.com/opencv/opencv/issues)\n",
      "                \n",
      "                - [Python-OpenCV GitHub Wiki](https://github.com/opencv/opencv/wiki)\n",
      "                \n",
      "                - [Python-OpenCV Blog](https://blog.opencv.org/category/python/)\n",
      "                \n",
      "                - [Python-OpenCV YouTube Channel](https://www.youtube.com/user/OpenCV)\n",
      "                \n",
      "                - [Python-OpenCV YouTube Playlist](https://www.youtube.com/playlist?list=PLDV1h-faVoVzK_OYl06Xf-2zc-n_jV-5J)\n",
      "                \n",
      "                - [Python-OpenCV GitHub Issues](https://github.com/opencv/opencv/issues)\n",
      "                \n",
      "                - [Python-OpenCV GitHub Wiki](https://github.com/opencv/opencv/wiki)\n",
      "                \n",
      "                - [Python-OpenCV Blog](https://blog.opencv.org/category/python/)\n",
      "                \n",
      "                - [Python-OpenCV YouTube Channel](https://www.youtube.com/user/OpenCV)\n",
      "                \n",
      "                - [Python-OpenCV YouTube Playlist](https://www.youtube.com/playlist?list=PLDV1h-faVoVzK_OYl06Xf-2zc-n_jV-5J)\n",
      "                \n",
      "                - [Python-OpenCV GitHub Issues](https://github.com/opencv/opencv/issues)\n",
      "                \n",
      "                - [Python-OpenCV GitHub Wiki](https://github.com/opencv/opencv/wiki)\n",
      "                \n",
      "                - [Python-OpenCV Blog](https://blog.open\n"
     ]
    }
   ],
   "source": [
    "query = \"What tool to use for cutting a video\"\n",
    "\n",
    "# Use the loaded index to query\n",
    "answer = rag.rag_pipeline(query)"
   ]
  },
  {
   "cell_type": "code",
   "execution_count": null,
   "metadata": {},
   "outputs": [],
   "source": []
  }
 ],
 "metadata": {
  "kernelspec": {
   "display_name": "vlm_llm",
   "language": "python",
   "name": "python3"
  },
  "language_info": {
   "codemirror_mode": {
    "name": "ipython",
    "version": 3
   },
   "file_extension": ".py",
   "mimetype": "text/x-python",
   "name": "python",
   "nbconvert_exporter": "python",
   "pygments_lexer": "ipython3",
   "version": "3.10.14"
  }
 },
 "nbformat": 4,
 "nbformat_minor": 2
}
